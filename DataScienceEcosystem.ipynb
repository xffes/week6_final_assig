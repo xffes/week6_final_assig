{
 "cells": [
  {
   "cell_type": "markdown",
   "id": "5c067f26-7518-4b7a-89f5-6f68f783bd99",
   "metadata": {},
   "source": [
    "# Data Science Tools and Ecosystem"
   ]
  },
  {
   "cell_type": "markdown",
   "id": "68bc5dde-32c8-4f34-bd96-f549e9d04c03",
   "metadata": {},
   "source": [
    "In this notebook, Data Science Tools and Ecosystem are summarized.\n"
   ]
  },
  {
   "cell_type": "markdown",
   "id": "1784c786-098e-409c-9a88-3e158c840283",
   "metadata": {
    "tags": []
   },
   "source": [
    "**Objectives:**\n",
    "- List popular languages for Data Science\n",
    "- List commonly used libraries for Data Science\n",
    "- List Data Science tools\n",
    "- Write Python comments\n",
    "- Write simple Python arithmetic\n",
    "    "
   ]
  },
  {
   "cell_type": "code",
   "execution_count": null,
   "id": "6881529c-46c9-434e-9916-58971e8a4204",
   "metadata": {},
   "outputs": [],
   "source": []
  },
  {
   "cell_type": "markdown",
   "id": "4e43e916-39dc-4d27-92a6-af8cf4c06dd9",
   "metadata": {
    "tags": []
   },
   "source": [
    "Some of the popular languages that Data Scientists use are:\n",
    "1. Python\n",
    "2. R\n",
    "3. Scala"
   ]
  },
  {
   "cell_type": "markdown",
   "id": "b1e9fb95-9657-4ffa-a2cd-27a1c5082e29",
   "metadata": {},
   "source": [
    "Some of the commonly used libraries used by Data Scientists include:\n",
    "1. ggplot\n",
    "2. Tensorflow\n",
    "3. Pandas\n"
   ]
  },
  {
   "cell_type": "markdown",
   "id": "3b0ede31-2efa-466c-9199-8943c86d8f96",
   "metadata": {},
   "source": [
    "| Data Science Tools |\n",
    "| - |\n",
    "| Anaconda |\n",
    "| Jupyter Labs |\n",
    "| R Studio |"
   ]
  },
  {
   "cell_type": "markdown",
   "id": "ca506886-baae-4a54-aa7c-c7e0efff9d78",
   "metadata": {},
   "source": [
    "### Below are a few examples of evaluating arithmetic expressions in Python."
   ]
  },
  {
   "cell_type": "code",
   "execution_count": 3,
   "id": "00b7b4f0-5864-4eaa-b3f4-356afdce1913",
   "metadata": {
    "tags": []
   },
   "outputs": [
    {
     "data": {
      "text/plain": [
       "17"
      ]
     },
     "execution_count": 3,
     "metadata": {},
     "output_type": "execute_result"
    }
   ],
   "source": [
    "# This is a simple arithmetic expression to muliply then add integers.\n",
    "(3*4)+5"
   ]
  },
  {
   "cell_type": "code",
   "execution_count": 4,
   "id": "9ed9d3ad-5aab-406d-b754-46722edbeb8a",
   "metadata": {
    "tags": []
   },
   "outputs": [
    {
     "data": {
      "text/plain": [
       "3.3333333333333335"
      ]
     },
     "execution_count": 4,
     "metadata": {},
     "output_type": "execute_result"
    }
   ],
   "source": [
    "# This will convert 200 minutes to hours by diving by 60.\n",
    "200/60"
   ]
  },
  {
   "cell_type": "markdown",
   "id": "092b0716-6cb1-4f42-ae32-181923b21b9c",
   "metadata": {},
   "source": [
    "## Author\n",
    "James Pullen"
   ]
  },
  {
   "cell_type": "code",
   "execution_count": null,
   "id": "f28cd7a7-361f-4c86-ba12-76669704bb78",
   "metadata": {},
   "outputs": [],
   "source": []
  }
 ],
 "metadata": {
  "kernelspec": {
   "display_name": "Python",
   "language": "python",
   "name": "conda-env-python-py"
  },
  "language_info": {
   "codemirror_mode": {
    "name": "ipython",
    "version": 3
   },
   "file_extension": ".py",
   "mimetype": "text/x-python",
   "name": "python",
   "nbconvert_exporter": "python",
   "pygments_lexer": "ipython3",
   "version": "3.7.12"
  }
 },
 "nbformat": 4,
 "nbformat_minor": 5
}
